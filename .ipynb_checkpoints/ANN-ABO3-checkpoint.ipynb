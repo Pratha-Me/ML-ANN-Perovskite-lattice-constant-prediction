{
 "cells": [
  {
   "cell_type": "markdown",
   "id": "iraqi-thriller",
   "metadata": {},
   "source": [
    "## Introduction\n",
    "This notebook aims to replicate the studies that were successful in predicting the lattice constants of the Perovskite compound ($ABO_{3}$). It's important to identify the features neccessary to perform predictions. The lattice constants of the $ABO_{3}$ -type may be correlated compounds as a general function of nine variables as below\n",
    "\n",
    "$Lattice constant = f(z_A + z_B + z_O + r_A + r_B + r_O + x_A + x_B + x_O)$\n",
    "\n",
    "where z, r and x denote the valence, the radius and the electronegativity of the ions (A, B, O), respectively. It is noted that the three variables associated with anion $O^{2-}$ , namely $z_{O}, r_{O},$ and $x_{O}$ can be ignored as they remain unchanged for all of the samples.\n",
    "\n",
    "The lattice constant can be reduced as a ﬁve-parameter function shown below.\n",
    "\n",
    "$Lattice constant = f(z_A + r_A + r_B + x_A + x_B)$\n",
    "\n",
    "There's a Goldschmidt’s tolerance factor (t), which can condense the atomic radii. It has been widely accepted as a criterion for the formation of the perovskite structure, up to now. I will use $\\textbf{four features}$ including the tolerance factor and others are denoted by, $r_{A}, r_{B}$ and $\\frac{r_{A}}{t}$. The list of feature does not include electronegativity and valence number. Basically, other sets of features that includes these two atomic configurations and they can be use to predict the lattice constant with great accuracy. However, I will only take the atomic radii in to my account. The tolerance factor (t) is expressed as below.\n",
    "\n",
    "$t = \\frac{r_A + r_O}{\\sqrt{2}(r_B + r_O)}$\n",
    "\n",
    "## Procedure\n",
    "First a simple regression model will be built which imitates the ANN (Built from TensorFlow APIs). Then the ANN model will be built to perform a GridSearch. Finally the predictions will be performed on the model with fine tuned hyperparameters.\n",
    "\n",
    "## Machine Learning Model\n",
    "I will build an artificial neural network (Hereafter called as ANN). The loss function will be mean square error. \"MSE\" greatly penalised the outliers in predictions compared to mean absolute error and huber loss function. I will choose Adaptive optimizer over Stochastic gradient descent (SGD). The ANN has lots of hyperparameters to be tuned before I set out to predict the target variables. Besides Adam optimizer the other hyperparameters are number of neural nodes, number of hidden layers, learning rate (Adam optimizer), activation functions and so on.  The '.csv' provides $r_{A}$ and $r_{b}$. So the tolerance factor and $\\frac{r_{A}}{t}$ needs to be calculated.\n",
    "\n",
    "## Linear Regression model\n",
    "Here I have built a simple LR model."
   ]
  },
  {
   "cell_type": "code",
   "execution_count": 6,
   "id": "actual-cemetery",
   "metadata": {},
   "outputs": [
    {
     "ename": "AttributeError",
     "evalue": "module 'keras.utils.generic_utils' has no attribute 'populate_dict_with_module_objects'",
     "output_type": "error",
     "traceback": [
      "\u001b[0;31m---------------------------------------------------------------------------\u001b[0m",
      "\u001b[0;31mAttributeError\u001b[0m                            Traceback (most recent call last)",
      "\u001b[0;32m<ipython-input-6-60fdfb1843c7>\u001b[0m in \u001b[0;36m<module>\u001b[0;34m\u001b[0m\n\u001b[1;32m      5\u001b[0m \u001b[0;32mimport\u001b[0m \u001b[0mnumpy\u001b[0m \u001b[0;32mas\u001b[0m \u001b[0mnp\u001b[0m\u001b[0;34m\u001b[0m\u001b[0;34m\u001b[0m\u001b[0m\n\u001b[1;32m      6\u001b[0m \u001b[0;32mimport\u001b[0m \u001b[0mtensorflow\u001b[0m \u001b[0;32mas\u001b[0m \u001b[0mtf\u001b[0m\u001b[0;34m\u001b[0m\u001b[0;34m\u001b[0m\u001b[0m\n\u001b[0;32m----> 7\u001b[0;31m \u001b[0;32mfrom\u001b[0m \u001b[0mkeras\u001b[0m \u001b[0;32mimport\u001b[0m \u001b[0mlayers\u001b[0m\u001b[0;34m,\u001b[0m \u001b[0moptimizers\u001b[0m\u001b[0;34m\u001b[0m\u001b[0;34m\u001b[0m\u001b[0m\n\u001b[0m\u001b[1;32m      8\u001b[0m \u001b[0;32mimport\u001b[0m \u001b[0mpandas\u001b[0m \u001b[0;32mas\u001b[0m \u001b[0mpd\u001b[0m\u001b[0;34m\u001b[0m\u001b[0;34m\u001b[0m\u001b[0m\n\u001b[1;32m      9\u001b[0m \u001b[0;34m\u001b[0m\u001b[0m\n",
      "\u001b[0;32m~/PrathaItems/env/lib/python3.9/site-packages/keras/__init__.py\u001b[0m in \u001b[0;36m<module>\u001b[0;34m\u001b[0m\n\u001b[1;32m     18\u001b[0m \u001b[0;32mfrom\u001b[0m \u001b[0;34m.\u001b[0m \u001b[0;32mimport\u001b[0m \u001b[0mcallbacks\u001b[0m\u001b[0;34m\u001b[0m\u001b[0;34m\u001b[0m\u001b[0m\n\u001b[1;32m     19\u001b[0m \u001b[0;32mfrom\u001b[0m \u001b[0;34m.\u001b[0m \u001b[0;32mimport\u001b[0m \u001b[0mconstraints\u001b[0m\u001b[0;34m\u001b[0m\u001b[0;34m\u001b[0m\u001b[0m\n\u001b[0;32m---> 20\u001b[0;31m \u001b[0;32mfrom\u001b[0m \u001b[0;34m.\u001b[0m \u001b[0;32mimport\u001b[0m \u001b[0minitializers\u001b[0m\u001b[0;34m\u001b[0m\u001b[0;34m\u001b[0m\u001b[0m\n\u001b[0m\u001b[1;32m     21\u001b[0m \u001b[0;32mfrom\u001b[0m \u001b[0;34m.\u001b[0m \u001b[0;32mimport\u001b[0m \u001b[0mmetrics\u001b[0m\u001b[0;34m\u001b[0m\u001b[0;34m\u001b[0m\u001b[0m\n\u001b[1;32m     22\u001b[0m \u001b[0;32mfrom\u001b[0m \u001b[0;34m.\u001b[0m \u001b[0;32mimport\u001b[0m \u001b[0mmodels\u001b[0m\u001b[0;34m\u001b[0m\u001b[0;34m\u001b[0m\u001b[0m\n",
      "\u001b[0;32m~/PrathaItems/env/lib/python3.9/site-packages/keras/initializers/__init__.py\u001b[0m in \u001b[0;36m<module>\u001b[0;34m\u001b[0m\n\u001b[1;32m    122\u001b[0m \u001b[0;31m# from ALL_OBJECTS. We make no guarantees as to whether these objects will\u001b[0m\u001b[0;34m\u001b[0m\u001b[0;34m\u001b[0m\u001b[0;34m\u001b[0m\u001b[0m\n\u001b[1;32m    123\u001b[0m \u001b[0;31m# using their correct version.\u001b[0m\u001b[0;34m\u001b[0m\u001b[0;34m\u001b[0m\u001b[0;34m\u001b[0m\u001b[0m\n\u001b[0;32m--> 124\u001b[0;31m \u001b[0mpopulate_deserializable_objects\u001b[0m\u001b[0;34m(\u001b[0m\u001b[0;34m)\u001b[0m\u001b[0;34m\u001b[0m\u001b[0;34m\u001b[0m\u001b[0m\n\u001b[0m\u001b[1;32m    125\u001b[0m \u001b[0mglobals\u001b[0m\u001b[0;34m(\u001b[0m\u001b[0;34m)\u001b[0m\u001b[0;34m.\u001b[0m\u001b[0mupdate\u001b[0m\u001b[0;34m(\u001b[0m\u001b[0mLOCAL\u001b[0m\u001b[0;34m.\u001b[0m\u001b[0mALL_OBJECTS\u001b[0m\u001b[0;34m)\u001b[0m\u001b[0;34m\u001b[0m\u001b[0;34m\u001b[0m\u001b[0m\n\u001b[1;32m    126\u001b[0m \u001b[0;34m\u001b[0m\u001b[0m\n",
      "\u001b[0;32m~/PrathaItems/env/lib/python3.9/site-packages/keras/initializers/__init__.py\u001b[0m in \u001b[0;36mpopulate_deserializable_objects\u001b[0;34m()\u001b[0m\n\u001b[1;32m     80\u001b[0m     \u001b[0mv2_objs\u001b[0m \u001b[0;34m=\u001b[0m \u001b[0;34m{\u001b[0m\u001b[0;34m}\u001b[0m\u001b[0;34m\u001b[0m\u001b[0;34m\u001b[0m\u001b[0m\n\u001b[1;32m     81\u001b[0m     \u001b[0mbase_cls\u001b[0m \u001b[0;34m=\u001b[0m \u001b[0minitializers_v2\u001b[0m\u001b[0;34m.\u001b[0m\u001b[0mInitializer\u001b[0m\u001b[0;34m\u001b[0m\u001b[0;34m\u001b[0m\u001b[0m\n\u001b[0;32m---> 82\u001b[0;31m     generic_utils.populate_dict_with_module_objects(\n\u001b[0m\u001b[1;32m     83\u001b[0m         \u001b[0mv2_objs\u001b[0m\u001b[0;34m,\u001b[0m\u001b[0;34m\u001b[0m\u001b[0;34m\u001b[0m\u001b[0m\n\u001b[1;32m     84\u001b[0m         \u001b[0;34m[\u001b[0m\u001b[0minitializers_v2\u001b[0m\u001b[0;34m]\u001b[0m\u001b[0;34m,\u001b[0m\u001b[0;34m\u001b[0m\u001b[0;34m\u001b[0m\u001b[0m\n",
      "\u001b[0;31mAttributeError\u001b[0m: module 'keras.utils.generic_utils' has no attribute 'populate_dict_with_module_objects'"
     ]
    }
   ],
   "source": [
    "import warnings\n",
    "warnings.filterwarnings('ignore')\n",
    "warnings.simplefilter('ignore')\n",
    "\n",
    "import numpy as np\n",
    "import tensorflow as tf\n",
    "from keras\n",
    "import pandas as pd\n",
    "\n",
    "lat_df = pd.read_csv('lat_const.csv', header=0, index_col = 0, usecols= ['compound','ra','rb','xa','xb','za','a','b','c'])\n",
    "print (lat_df.head())"
   ]
  },
  {
   "cell_type": "code",
   "execution_count": null,
   "id": "editorial-provider",
   "metadata": {},
   "outputs": [],
   "source": [
    "lat_df = lat_df.assign(tolerance = lambda x:((x['ra'] + 1.4)/(np.sqrt(2)*(x['rb'] + 1.4))))\n",
    "lat_df = lat_df.assign(rat = lambda x:(x['ra']/x['tolerance']))\n",
    "\n",
    "print (lat_df.head())\n",
    "\n",
    "features = np.array(lat_df[['ra', 'rb', 'tolerance', 'rat']], np.float32)\n",
    "targets = np.array(lat_df[['a', 'b', 'c']], np.float32)\n",
    "\n",
    "print (\"\\n\")\n",
    "print (features[:5,:])\n",
    "print (\"\\n\")\n",
    "print (targets[:5,:])"
   ]
  },
  {
   "cell_type": "code",
   "execution_count": null,
   "id": "interracial-southwest",
   "metadata": {},
   "outputs": [],
   "source": [
    "# # W = tf.Variable(np.random.randn(), name=\"weight\")\n",
    "# # b = tf.Variable(np.random.randn(), name=\"bias\")\n",
    "\n",
    "# W = tf.Variable(np.array([[0.1, 0.1, 0.1]] *4), name = \"W\", shape=tf.TensorShape([4,3]))\n",
    "# b = tf.Variable(np.array([[0.1, 0.1, 0.1]] *100), name = \"b\", shape=tf.TensorShape([100,3]))\n",
    "\n",
    "# def linear_regression(intercept, slope):\n",
    "#     return tf.add(tf.multiply(features,slope), intercept)\n",
    "\n",
    "# def loss_function(intercept, slope):\n",
    "#     predictions = linear_regression(intercept, slope)\n",
    "#     return tf.keras.losses.mse(targets, predictions)\n",
    "\n",
    "# opt = tf.keras.optimizers.Adam()\n",
    "\n",
    "# for j in range(500):\n",
    "#     opt.minimize(lambda: loss_function(b, W), var_list= [b, W])\n",
    "#     print (loss_function(intercept, slope))\n",
    "    \n",
    "# print (\"Intercept and Slope from the optimization\")\n",
    "# print (intercept.numpy(), slope.numpy())"
   ]
  },
  {
   "cell_type": "markdown",
   "id": "atlantic-arrow",
   "metadata": {},
   "source": [
    "## GridSearch\n",
    "Grid search as the name suggests requires a grid made up by the hyperparamters. The alogorithm then runs the model over the grid and finds the best set of parameters for which the model perform best, i.e. low error (MSE, MAE, huber loss, etc in case of refression). The algorithm is heavy because it is performing a brute force approach. There are some techniques like Bayesian inference methods which are very quick in findig the hyperparameters. Alongside the GridSearch, I will set cross-validation option which results in accurate loss metrics.\n",
    "\n",
    "The parameter grid for my models are \n",
    "\n"
   ]
  },
  {
   "cell_type": "code",
   "execution_count": null,
   "id": "weird-offense",
   "metadata": {},
   "outputs": [],
   "source": [
    "from sklearn.model_selection import train_test_split\n",
    "X_train, X_test, y_train, y_test = train_test_split(features, targets,\n",
    "                                                    stratify=targets, \n",
    "                                                    test_size=0.2)\n",
    "\n",
    "def build_model(n_hidden=1, n_neurons=30, learning_rate=3e-3, input_shape=[100]):\n",
    "    model = keras.models.Sequential()\n",
    "    model.add(keras.layers.InputLayer(input_shape=input_shape))\n",
    "    for layer in range(n_hidden):\n",
    "        model.add(keras.layers.Dense(n_neurons, activation=\"relu\"))\n",
    "    model.add(keras.layers.Dense(3))\n",
    "    optimizer = keras.optimizers.Adam(lr=learning_rate)\n",
    "    model.compile(loss=\"mse\", optimizer=optimizer)\n",
    "    return model\n",
    "\n",
    "keras_reg = keras.wrappers.scikit_learn.KerasRegressor(build_model)\n",
    "\n",
    "from sklearn.model_selection import GridSearchCV\n",
    "\n",
    "param_distribs = {\n",
    "    \"n_hidden\": [0, 1, 2, 3],\n",
    "    \"n_neurons\": np.arange(1, 100),\n",
    "    \"learning_rate\": [1/3e-4, 1/3e-2],\n",
    "}\n",
    "\n",
    "rnd_search_cv = GridSearchCV(keras_reg, param_distribs, cv=4)\n",
    "rnd_search_cv.fit(X_train, y_train, epochs=100,\n",
    "                  validation_data=(X_valid, y_valid),\n",
    "                  callbacks=[keras.callbacks.EarlyStopping(patience=10)])\n"
   ]
  }
 ],
 "metadata": {
  "kernelspec": {
   "display_name": "Python 3",
   "language": "python",
   "name": "python3"
  },
  "language_info": {
   "codemirror_mode": {
    "name": "ipython",
    "version": 3
   },
   "file_extension": ".py",
   "mimetype": "text/x-python",
   "name": "python",
   "nbconvert_exporter": "python",
   "pygments_lexer": "ipython3",
   "version": "3.9.5"
  }
 },
 "nbformat": 4,
 "nbformat_minor": 5
}
